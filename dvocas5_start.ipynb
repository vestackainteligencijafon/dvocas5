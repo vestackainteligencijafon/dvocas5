{
 "cells": [
  {
   "metadata": {},
   "cell_type": "markdown",
   "source": "# Stablo odlučivanja",
   "id": "fed104412e8e4fee"
  },
  {
   "metadata": {
    "collapsed": true,
    "ExecuteTime": {
     "end_time": "2025-06-15T16:25:57.592775Z",
     "start_time": "2025-06-15T16:25:57.588859Z"
    }
   },
   "cell_type": "code",
   "source": "# Import potrebnih biblioteka\n",
   "id": "initial_id",
   "outputs": [],
   "execution_count": 1
  },
  {
   "metadata": {},
   "cell_type": "markdown",
   "source": "## Učitavanje podataka",
   "id": "11741378bf4c957e"
  },
  {
   "metadata": {
    "ExecuteTime": {
     "end_time": "2025-06-15T16:25:58.765107Z",
     "start_time": "2025-06-15T16:25:58.761563Z"
    }
   },
   "cell_type": "code",
   "source": "# Ucitati podatke iz foldera data\n",
   "id": "b12e0012946e26e9",
   "outputs": [],
   "execution_count": 2
  },
  {
   "metadata": {},
   "cell_type": "markdown",
   "source": "## Pregled podataka",
   "id": "6073ffdd3dd1ad2b"
  },
  {
   "metadata": {
    "ExecuteTime": {
     "end_time": "2025-06-15T16:26:08.996537Z",
     "start_time": "2025-06-15T16:26:08.991810Z"
    }
   },
   "cell_type": "code",
   "source": [
    "# Prikaži prvih nekoliko redova\n",
    "\n",
    "# Proveri osnovne informacije i tipove podataka\n",
    "\n",
    "# Proveri deskriptivnu statistiku\n",
    "\n",
    "# Prikaži raspodelu vrednosti promenljive 'Sales'"
   ],
   "id": "70ec947e0920847a",
   "outputs": [],
   "execution_count": 3
  },
  {
   "metadata": {},
   "cell_type": "markdown",
   "source": "## Kreiranje izlazne promenljive i priprema podataka",
   "id": "f093176fceb7924b"
  },
  {
   "metadata": {
    "ExecuteTime": {
     "end_time": "2025-06-15T16:26:12.173778Z",
     "start_time": "2025-06-15T16:26:12.169413Z"
    }
   },
   "cell_type": "code",
   "source": "# Izračunaj treći kvartil za promenljivu 'Sales'\n",
   "id": "deeaaa97acae1120",
   "outputs": [],
   "execution_count": 4
  },
  {
   "metadata": {
    "ExecuteTime": {
     "end_time": "2025-06-15T16:26:14.436750Z",
     "start_time": "2025-06-15T16:26:14.433169Z"
    }
   },
   "cell_type": "code",
   "source": "# Kreiraj izlaznu promenljivu 'HighSales' na osnovu vrednosti promenljive 'Sales'\n",
   "id": "16df520bee88f02a",
   "outputs": [],
   "execution_count": 5
  },
  {
   "metadata": {
    "ExecuteTime": {
     "end_time": "2025-06-15T16:26:17.243633Z",
     "start_time": "2025-06-15T16:26:17.239152Z"
    }
   },
   "cell_type": "code",
   "source": "# Ukloni 'Sales' jer je korišćena za pravljenje izlazne promenljive\n",
   "id": "6fe39630ce38d929",
   "outputs": [],
   "execution_count": 6
  },
  {
   "metadata": {
    "ExecuteTime": {
     "end_time": "2025-06-15T16:26:20.357153Z",
     "start_time": "2025-06-15T16:26:20.352200Z"
    }
   },
   "cell_type": "code",
   "source": [
    "# Transformacija kategorijskih promenljivih u numeričke vrednosti:\n",
    "# - Binarne kolone 'Urban', 'US' i 'HighSales' mapirane su na 0 (No) i 1 (Yes)\n",
    "# - Ordinalna kolona 'ShelveLoc' mapirana je na 0 (Bad), 1 (Medium), 2 (Good)\n"
   ],
   "id": "ebeddf4bd30bfc44",
   "outputs": [],
   "execution_count": 7
  },
  {
   "metadata": {
    "ExecuteTime": {
     "end_time": "2025-06-15T16:26:23.289587Z",
     "start_time": "2025-06-15T16:26:23.285908Z"
    }
   },
   "cell_type": "code",
   "source": "# Prikazati distribuciju varijable 'HighSales'\n",
   "id": "294a9d573bbc93be",
   "outputs": [],
   "execution_count": 8
  },
  {
   "metadata": {},
   "cell_type": "markdown",
   "source": "## Podela na trening i test skupove",
   "id": "1b5b5fad8e5e2879"
  },
  {
   "metadata": {
    "ExecuteTime": {
     "end_time": "2025-06-15T16:26:35.331090Z",
     "start_time": "2025-06-15T16:26:35.327383Z"
    }
   },
   "cell_type": "code",
   "source": [
    "\n",
    "# Podeli podatke na trening (80%) i test (20%) skup\n",
    "\n",
    "# Prikazi raspodelu klasa u trening i test skupu\n"
   ],
   "id": "54f01a8a5cb9bb14",
   "outputs": [],
   "execution_count": 9
  },
  {
   "metadata": {},
   "cell_type": "markdown",
   "source": "## Kreiranje prediktivnog modela pomoću stabla odlučivanja",
   "id": "ff5c4bba4408735"
  },
  {
   "metadata": {
    "ExecuteTime": {
     "end_time": "2025-06-15T16:26:40.552508Z",
     "start_time": "2025-06-15T16:26:40.548276Z"
    }
   },
   "cell_type": "code",
   "source": [
    "\n",
    "# Inicijalizuj i treniraj model stabla odlučivanja\n"
   ],
   "id": "81d227125b7ba28f",
   "outputs": [],
   "execution_count": 10
  },
  {
   "metadata": {
    "ExecuteTime": {
     "end_time": "2025-06-15T16:26:46.036030Z",
     "start_time": "2025-06-15T16:26:46.033113Z"
    }
   },
   "cell_type": "code",
   "source": [
    "\n",
    "# Vizualizacija stabla odlučivanja\n"
   ],
   "id": "6f7b1e03a0cbaaee",
   "outputs": [],
   "execution_count": 11
  },
  {
   "metadata": {},
   "cell_type": "markdown",
   "source": "## Kreiranje predikcija i prikaz rezultata",
   "id": "dea5ec121390efa7"
  },
  {
   "metadata": {
    "ExecuteTime": {
     "end_time": "2025-06-15T16:26:49.234817Z",
     "start_time": "2025-06-15T16:26:49.231771Z"
    }
   },
   "cell_type": "code",
   "source": "# Kreiraj predikcije za test skup\n",
   "id": "e2feb0061a6a261",
   "outputs": [],
   "execution_count": 12
  },
  {
   "metadata": {
    "ExecuteTime": {
     "end_time": "2025-06-15T16:27:00.054161Z",
     "start_time": "2025-06-15T16:27:00.050547Z"
    }
   },
   "cell_type": "code",
   "source": [
    "\n",
    "# Kreiraj matricu konfuzije za predikcije modela tree1\n",
    "\n",
    "# Prikaži matricu\n",
    "\n",
    "# Kreiraj DataFrame sa oznakama redova i kolona\n"
   ],
   "id": "43d3d13ba03f0431",
   "outputs": [],
   "execution_count": 13
  },
  {
   "metadata": {
    "ExecuteTime": {
     "end_time": "2025-06-15T16:27:06.679233Z",
     "start_time": "2025-06-15T16:27:06.674950Z"
    }
   },
   "cell_type": "code",
   "source": [
    "\n",
    "# Funkcija za izračunavanje evaluacionih metrika\n"
   ],
   "id": "20c95b98b399ce53",
   "outputs": [],
   "execution_count": 14
  },
  {
   "metadata": {
    "ExecuteTime": {
     "end_time": "2025-06-15T16:27:09.421Z",
     "start_time": "2025-06-15T16:27:09.416616Z"
    }
   },
   "cell_type": "code",
   "source": "# Izračunaj evaluacione metrike za predikcije modela tree1\n",
   "id": "cae7fd53ad7e96d2",
   "outputs": [],
   "execution_count": 15
  },
  {
   "metadata": {},
   "cell_type": "markdown",
   "source": "## Izračunavanje optimalne vrednosti parametra ccp_alpha",
   "id": "2d93ca88bf874517"
  },
  {
   "metadata": {
    "ExecuteTime": {
     "end_time": "2025-06-15T16:27:23.700217Z",
     "start_time": "2025-06-15T16:27:23.696852Z"
    }
   },
   "cell_type": "code",
   "source": [
    "\n",
    "# Definiši 10-fold stratifikovanu kros-validaciju\n",
    "\n",
    "# Definiši opseg vrednosti za ccp_alpha parametar\n",
    "\n",
    "# Kreiraj GridSearchCV sa DecisionTreeClassifier\n",
    "\n",
    "# Pokreni GridSearchCV\n",
    "\n",
    "# Izvuci najbolju vrednost za ccp_alpha\n"
   ],
   "id": "e23f62614c3dc721",
   "outputs": [],
   "execution_count": 16
  },
  {
   "metadata": {},
   "cell_type": "markdown",
   "source": "## Kreiranje tree2",
   "id": "39e6ccfadc1cf2ba"
  },
  {
   "metadata": {
    "ExecuteTime": {
     "end_time": "2025-06-15T16:27:30.030534Z",
     "start_time": "2025-06-15T16:27:30.026450Z"
    }
   },
   "cell_type": "code",
   "source": [
    "# Kreiraj model tree2 koristeći dobijenu vrednost za parametar ccp_alpha\n",
    "\n",
    "# Vizualizacija stabla odlučivanja\n"
   ],
   "id": "e9881ed4451bd822",
   "outputs": [],
   "execution_count": 17
  },
  {
   "metadata": {
    "ExecuteTime": {
     "end_time": "2025-06-15T13:04:00.609302Z",
     "start_time": "2025-06-15T13:04:00.600678Z"
    }
   },
   "cell_type": "code",
   "source": "# Kreiraj predikcije za test skup za tree2\n",
   "id": "746079e17c9bcadd",
   "outputs": [],
   "execution_count": 128
  },
  {
   "metadata": {
    "ExecuteTime": {
     "end_time": "2025-06-15T16:27:42.054001Z",
     "start_time": "2025-06-15T16:27:42.049918Z"
    }
   },
   "cell_type": "code",
   "source": [
    "# Kreiraj matricu konfuzije za predikcije modela tree2\n",
    "\n",
    "# Prikaži matricu\n",
    "\n",
    "# Kreiraj DataFrame sa oznakama redova i kolona\n"
   ],
   "id": "8b8de0ff931bd136",
   "outputs": [],
   "execution_count": 18
  },
  {
   "metadata": {
    "ExecuteTime": {
     "end_time": "2025-06-15T16:27:45.340306Z",
     "start_time": "2025-06-15T16:27:45.336318Z"
    }
   },
   "cell_type": "code",
   "source": "# Izračunaj evaluacione metrike za predikcije modela tree2\n",
   "id": "a999f9f9f39a6d86",
   "outputs": [],
   "execution_count": 19
  },
  {
   "metadata": {
    "ExecuteTime": {
     "end_time": "2025-06-15T16:27:47.815477Z",
     "start_time": "2025-06-15T16:27:47.811296Z"
    }
   },
   "cell_type": "code",
   "source": "# Uporedi evaluacione metrike za predikcije modela tree1 i tree2\n",
   "id": "6bbe9d7eb20eeff1",
   "outputs": [],
   "execution_count": 20
  }
 ],
 "metadata": {
  "kernelspec": {
   "display_name": "Python 3",
   "language": "python",
   "name": "python3"
  },
  "language_info": {
   "codemirror_mode": {
    "name": "ipython",
    "version": 2
   },
   "file_extension": ".py",
   "mimetype": "text/x-python",
   "name": "python",
   "nbconvert_exporter": "python",
   "pygments_lexer": "ipython2",
   "version": "2.7.6"
  }
 },
 "nbformat": 4,
 "nbformat_minor": 5
}
